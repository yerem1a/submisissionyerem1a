{
  "cells": [
    {
      "cell_type": "markdown",
      "metadata": {
        "id": "cP5zh7Ww85Fm"
      },
      "source": [
        "# Proyek Analisis Data: Nama dataset\n",
        "- Nama: Yeremia T. P. Purba\n",
        "- Email: yeremiapurba14@gmail.com\n",
        "- Id Dicoding: yerem1a"
      ]
    },
    {
      "cell_type": "markdown",
      "metadata": {
        "id": "ggwOFmpI88dG"
      },
      "source": [
        "## Menentukan Pertanyaan Bisnis"
      ]
    },
    {
      "cell_type": "markdown",
      "metadata": {
        "id": "6irqmTtg8-IC"
      },
      "source": [
        "- Bagaimana korelasi antara faktor cuaca (seperti temperatur, kelembaban, dan kondisi cuaca) dengan tingkat peminjaman sepeda?\n",
        "- Bagaimana performa penggunaan sepeda berdasarkan waktu (hari dalam seminggu, jam dalam sehari) dan apakah terdapat pola tertentu yang dapat memberikan wawasan untuk meningkatkan strategi pelayanan dan operasional?"
      ]
    },
    {
      "cell_type": "markdown",
      "metadata": {
        "id": "EueHsNk89AsY"
      },
      "source": [
        "## Menyaipkan semua library yang dibuthkan"
      ]
    },
    {
      "cell_type": "code",
      "execution_count": 4,
      "metadata": {
        "id": "4cmWv4qc8xWu"
      },
      "outputs": [],
      "source": [
        "import pandas as pd\n",
        "import numpy as np\n",
        "import matplotlib.pyplot as plt\n",
        "import seaborn as sb"
      ]
    },
    {
      "cell_type": "markdown",
      "metadata": {
        "id": "7DwSpkkZ9BqV"
      },
      "source": [
        "## Data Wrangling"
      ]
    },
    {
      "cell_type": "markdown",
      "metadata": {
        "id": "ZuJuLGxe9D9O"
      },
      "source": [
        "### Gathering Data"
      ]
    },
    {
      "cell_type": "code",
      "execution_count": 5,
      "metadata": {
        "colab": {
          "base_uri": "https://localhost:8080/"
        },
        "id": "Rg3wtvOr9DUm",
        "outputId": "b5856f54-5c35-45f4-b7d8-bc1acaa19b0c"
      },
      "outputs": [
        {
          "name": "stdout",
          "output_type": "stream",
          "text": [
            "   instant      dteday  season  yr  mnth  holiday  weekday  workingday  \\\n",
            "0        1  2011-01-01       1   0     1        0        6           0   \n",
            "1        2  2011-01-02       1   0     1        0        0           0   \n",
            "2        3  2011-01-03       1   0     1        0        1           1   \n",
            "3        4  2011-01-04       1   0     1        0        2           1   \n",
            "4        5  2011-01-05       1   0     1        0        3           1   \n",
            "\n",
            "   weathersit      temp     atemp       hum  windspeed  casual  registered  \\\n",
            "0           2  0.344167  0.363625  0.805833   0.160446     331         654   \n",
            "1           2  0.363478  0.353739  0.696087   0.248539     131         670   \n",
            "2           1  0.196364  0.189405  0.437273   0.248309     120        1229   \n",
            "3           1  0.200000  0.212122  0.590435   0.160296     108        1454   \n",
            "4           1  0.226957  0.229270  0.436957   0.186900      82        1518   \n",
            "\n",
            "    cnt  \n",
            "0   985  \n",
            "1   801  \n",
            "2  1349  \n",
            "3  1562  \n",
            "4  1600  \n",
            "==========================================================================\n",
            "   instant      dteday  season  yr  mnth  hr  holiday  weekday  workingday  \\\n",
            "0        1  2011-01-01       1   0     1   0        0        6           0   \n",
            "1        2  2011-01-01       1   0     1   1        0        6           0   \n",
            "2        3  2011-01-01       1   0     1   2        0        6           0   \n",
            "3        4  2011-01-01       1   0     1   3        0        6           0   \n",
            "4        5  2011-01-01       1   0     1   4        0        6           0   \n",
            "\n",
            "   weathersit  temp   atemp   hum  windspeed  casual  registered  cnt  \n",
            "0           1  0.24  0.2879  0.81        0.0       3          13   16  \n",
            "1           1  0.22  0.2727  0.80        0.0       8          32   40  \n",
            "2           1  0.22  0.2727  0.80        0.0       5          27   32  \n",
            "3           1  0.24  0.2879  0.75        0.0       3          10   13  \n",
            "4           1  0.24  0.2879  0.75        0.0       0           1    1  \n"
          ]
        }
      ],
      "source": [
        "import pandas as pd\n",
        "\n",
        "# Membaca file CSV dan membuat DataFrame\n",
        "df_day = pd.read_csv('day.csv')\n",
        "df_hour = pd.read_csv('hour.csv')\n",
        "\n",
        "# Menampilkan beberapa baris pertama dari dataset 'day.csv'\n",
        "print(df_day.head())\n",
        "print(\"==========================================================================\")\n",
        "print(df_hour.head())\n"
      ]
    },
    {
      "cell_type": "markdown",
      "metadata": {
        "id": "BvZAfrSH9F2U"
      },
      "source": [
        "### Assessing Data"
      ]
    },
    {
      "cell_type": "code",
      "execution_count": 6,
      "metadata": {
        "colab": {
          "base_uri": "https://localhost:8080/"
        },
        "id": "fx7PaLsV9G8M",
        "outputId": "751997a9-dcd0-42ac-da73-e48a9bd26e1f"
      },
      "outputs": [
        {
          "name": "stdout",
          "output_type": "stream",
          "text": [
            "<class 'pandas.core.frame.DataFrame'>\n",
            "RangeIndex: 17379 entries, 0 to 17378\n",
            "Data columns (total 32 columns):\n",
            " #   Column           Non-Null Count  Dtype  \n",
            "---  ------           --------------  -----  \n",
            " 0   instant_day      17379 non-null  int64  \n",
            " 1   dteday           17379 non-null  object \n",
            " 2   season_day       17379 non-null  int64  \n",
            " 3   yr_day           17379 non-null  int64  \n",
            " 4   mnth_day         17379 non-null  int64  \n",
            " 5   holiday_day      17379 non-null  int64  \n",
            " 6   weekday_day      17379 non-null  int64  \n",
            " 7   workingday_day   17379 non-null  int64  \n",
            " 8   weathersit_day   17379 non-null  int64  \n",
            " 9   temp_day         17379 non-null  float64\n",
            " 10  atemp_day        17379 non-null  float64\n",
            " 11  hum_day          17379 non-null  float64\n",
            " 12  windspeed_day    17379 non-null  float64\n",
            " 13  casual_day       17379 non-null  int64  \n",
            " 14  registered_day   17379 non-null  int64  \n",
            " 15  cnt_day          17379 non-null  int64  \n",
            " 16  instant_hour     17379 non-null  int64  \n",
            " 17  season_hour      17379 non-null  int64  \n",
            " 18  yr_hour          17379 non-null  int64  \n",
            " 19  mnth_hour        17379 non-null  int64  \n",
            " 20  hr               17379 non-null  int64  \n",
            " 21  holiday_hour     17379 non-null  int64  \n",
            " 22  weekday_hour     17379 non-null  int64  \n",
            " 23  workingday_hour  17379 non-null  int64  \n",
            " 24  weathersit_hour  17379 non-null  int64  \n",
            " 25  temp_hour        17379 non-null  float64\n",
            " 26  atemp_hour       17379 non-null  float64\n",
            " 27  hum_hour         17379 non-null  float64\n",
            " 28  windspeed_hour   17379 non-null  float64\n",
            " 29  casual_hour      17379 non-null  int64  \n",
            " 30  registered_hour  17379 non-null  int64  \n",
            " 31  cnt_hour         17379 non-null  int64  \n",
            "dtypes: float64(8), int64(23), object(1)\n",
            "memory usage: 4.2+ MB\n"
          ]
        }
      ],
      "source": [
        "# Menggabungkan data berdasarkan kolom 'dteday'\n",
        "df_combined = pd.merge(df_day, df_hour, on='dteday', suffixes=('_day', '_hour'))\n",
        "df_combined.info()\n",
        "\n",
        "# Menghapus kolom yang terduplikasi (kolom 'instant_hour' dari 'hour.csv')\n",
        "df_combined = df_combined.drop(columns=['instant_hour'])"
      ]
    },
    {
      "cell_type": "code",
      "execution_count": 7,
      "metadata": {
        "colab": {
          "base_uri": "https://localhost:8080/"
        },
        "id": "stQUNRHXUhm9",
        "outputId": "7c7fd0bb-b4d8-4507-eddf-74394e429822"
      },
      "outputs": [
        {
          "data": {
            "text/plain": [
              "instant_day        0\n",
              "dteday             0\n",
              "season_day         0\n",
              "yr_day             0\n",
              "mnth_day           0\n",
              "holiday_day        0\n",
              "weekday_day        0\n",
              "workingday_day     0\n",
              "weathersit_day     0\n",
              "temp_day           0\n",
              "atemp_day          0\n",
              "hum_day            0\n",
              "windspeed_day      0\n",
              "casual_day         0\n",
              "registered_day     0\n",
              "cnt_day            0\n",
              "season_hour        0\n",
              "yr_hour            0\n",
              "mnth_hour          0\n",
              "hr                 0\n",
              "holiday_hour       0\n",
              "weekday_hour       0\n",
              "workingday_hour    0\n",
              "weathersit_hour    0\n",
              "temp_hour          0\n",
              "atemp_hour         0\n",
              "hum_hour           0\n",
              "windspeed_hour     0\n",
              "casual_hour        0\n",
              "registered_hour    0\n",
              "cnt_hour           0\n",
              "dtype: int64"
            ]
          },
          "execution_count": 7,
          "metadata": {},
          "output_type": "execute_result"
        }
      ],
      "source": [
        "df_combined.isna().sum()"
      ]
    },
    {
      "cell_type": "code",
      "execution_count": 8,
      "metadata": {
        "colab": {
          "base_uri": "https://localhost:8080/",
          "height": 349
        },
        "id": "g3_9qL9eUpIW",
        "outputId": "7e45a8b8-e1aa-4e53-baeb-dd7f8219b7e2"
      },
      "outputs": [
        {
          "data": {
            "text/html": [
              "<div>\n",
              "<style scoped>\n",
              "    .dataframe tbody tr th:only-of-type {\n",
              "        vertical-align: middle;\n",
              "    }\n",
              "\n",
              "    .dataframe tbody tr th {\n",
              "        vertical-align: top;\n",
              "    }\n",
              "\n",
              "    .dataframe thead th {\n",
              "        text-align: right;\n",
              "    }\n",
              "</style>\n",
              "<table border=\"1\" class=\"dataframe\">\n",
              "  <thead>\n",
              "    <tr style=\"text-align: right;\">\n",
              "      <th></th>\n",
              "      <th>instant_day</th>\n",
              "      <th>season_day</th>\n",
              "      <th>yr_day</th>\n",
              "      <th>mnth_day</th>\n",
              "      <th>holiday_day</th>\n",
              "      <th>weekday_day</th>\n",
              "      <th>workingday_day</th>\n",
              "      <th>weathersit_day</th>\n",
              "      <th>temp_day</th>\n",
              "      <th>atemp_day</th>\n",
              "      <th>...</th>\n",
              "      <th>weekday_hour</th>\n",
              "      <th>workingday_hour</th>\n",
              "      <th>weathersit_hour</th>\n",
              "      <th>temp_hour</th>\n",
              "      <th>atemp_hour</th>\n",
              "      <th>hum_hour</th>\n",
              "      <th>windspeed_hour</th>\n",
              "      <th>casual_hour</th>\n",
              "      <th>registered_hour</th>\n",
              "      <th>cnt_hour</th>\n",
              "    </tr>\n",
              "  </thead>\n",
              "  <tbody>\n",
              "    <tr>\n",
              "      <th>count</th>\n",
              "      <td>17379.000000</td>\n",
              "      <td>17379.000000</td>\n",
              "      <td>17379.000000</td>\n",
              "      <td>17379.000000</td>\n",
              "      <td>17379.000000</td>\n",
              "      <td>17379.000000</td>\n",
              "      <td>17379.000000</td>\n",
              "      <td>17379.000000</td>\n",
              "      <td>17379.000000</td>\n",
              "      <td>17379.000000</td>\n",
              "      <td>...</td>\n",
              "      <td>17379.000000</td>\n",
              "      <td>17379.000000</td>\n",
              "      <td>17379.000000</td>\n",
              "      <td>17379.000000</td>\n",
              "      <td>17379.000000</td>\n",
              "      <td>17379.000000</td>\n",
              "      <td>17379.000000</td>\n",
              "      <td>17379.000000</td>\n",
              "      <td>17379.000000</td>\n",
              "      <td>17379.000000</td>\n",
              "    </tr>\n",
              "    <tr>\n",
              "      <th>mean</th>\n",
              "      <td>367.172622</td>\n",
              "      <td>2.501640</td>\n",
              "      <td>0.502561</td>\n",
              "      <td>6.537775</td>\n",
              "      <td>0.028770</td>\n",
              "      <td>3.003683</td>\n",
              "      <td>0.682721</td>\n",
              "      <td>1.391680</td>\n",
              "      <td>0.496987</td>\n",
              "      <td>0.475775</td>\n",
              "      <td>...</td>\n",
              "      <td>3.003683</td>\n",
              "      <td>0.682721</td>\n",
              "      <td>1.425283</td>\n",
              "      <td>0.496987</td>\n",
              "      <td>0.475775</td>\n",
              "      <td>0.627229</td>\n",
              "      <td>0.190098</td>\n",
              "      <td>35.676218</td>\n",
              "      <td>153.786869</td>\n",
              "      <td>189.463088</td>\n",
              "    </tr>\n",
              "    <tr>\n",
              "      <th>std</th>\n",
              "      <td>210.072051</td>\n",
              "      <td>1.106918</td>\n",
              "      <td>0.500008</td>\n",
              "      <td>3.438776</td>\n",
              "      <td>0.167165</td>\n",
              "      <td>2.005771</td>\n",
              "      <td>0.465431</td>\n",
              "      <td>0.540501</td>\n",
              "      <td>0.182445</td>\n",
              "      <td>0.162426</td>\n",
              "      <td>...</td>\n",
              "      <td>2.005771</td>\n",
              "      <td>0.465431</td>\n",
              "      <td>0.639357</td>\n",
              "      <td>0.192556</td>\n",
              "      <td>0.171850</td>\n",
              "      <td>0.192930</td>\n",
              "      <td>0.122340</td>\n",
              "      <td>49.305030</td>\n",
              "      <td>151.357286</td>\n",
              "      <td>181.387599</td>\n",
              "    </tr>\n",
              "    <tr>\n",
              "      <th>min</th>\n",
              "      <td>1.000000</td>\n",
              "      <td>1.000000</td>\n",
              "      <td>0.000000</td>\n",
              "      <td>1.000000</td>\n",
              "      <td>0.000000</td>\n",
              "      <td>0.000000</td>\n",
              "      <td>0.000000</td>\n",
              "      <td>1.000000</td>\n",
              "      <td>0.059130</td>\n",
              "      <td>0.079070</td>\n",
              "      <td>...</td>\n",
              "      <td>0.000000</td>\n",
              "      <td>0.000000</td>\n",
              "      <td>1.000000</td>\n",
              "      <td>0.020000</td>\n",
              "      <td>0.000000</td>\n",
              "      <td>0.000000</td>\n",
              "      <td>0.000000</td>\n",
              "      <td>0.000000</td>\n",
              "      <td>0.000000</td>\n",
              "      <td>1.000000</td>\n",
              "    </tr>\n",
              "    <tr>\n",
              "      <th>25%</th>\n",
              "      <td>185.000000</td>\n",
              "      <td>2.000000</td>\n",
              "      <td>0.000000</td>\n",
              "      <td>4.000000</td>\n",
              "      <td>0.000000</td>\n",
              "      <td>1.000000</td>\n",
              "      <td>0.000000</td>\n",
              "      <td>1.000000</td>\n",
              "      <td>0.340000</td>\n",
              "      <td>0.338363</td>\n",
              "      <td>...</td>\n",
              "      <td>1.000000</td>\n",
              "      <td>0.000000</td>\n",
              "      <td>1.000000</td>\n",
              "      <td>0.340000</td>\n",
              "      <td>0.333300</td>\n",
              "      <td>0.480000</td>\n",
              "      <td>0.104500</td>\n",
              "      <td>4.000000</td>\n",
              "      <td>34.000000</td>\n",
              "      <td>40.000000</td>\n",
              "    </tr>\n",
              "    <tr>\n",
              "      <th>50%</th>\n",
              "      <td>367.000000</td>\n",
              "      <td>3.000000</td>\n",
              "      <td>1.000000</td>\n",
              "      <td>7.000000</td>\n",
              "      <td>0.000000</td>\n",
              "      <td>3.000000</td>\n",
              "      <td>1.000000</td>\n",
              "      <td>1.000000</td>\n",
              "      <td>0.502500</td>\n",
              "      <td>0.490122</td>\n",
              "      <td>...</td>\n",
              "      <td>3.000000</td>\n",
              "      <td>1.000000</td>\n",
              "      <td>1.000000</td>\n",
              "      <td>0.500000</td>\n",
              "      <td>0.484800</td>\n",
              "      <td>0.630000</td>\n",
              "      <td>0.194000</td>\n",
              "      <td>17.000000</td>\n",
              "      <td>115.000000</td>\n",
              "      <td>142.000000</td>\n",
              "    </tr>\n",
              "    <tr>\n",
              "      <th>75%</th>\n",
              "      <td>549.000000</td>\n",
              "      <td>3.000000</td>\n",
              "      <td>1.000000</td>\n",
              "      <td>10.000000</td>\n",
              "      <td>0.000000</td>\n",
              "      <td>5.000000</td>\n",
              "      <td>1.000000</td>\n",
              "      <td>2.000000</td>\n",
              "      <td>0.655833</td>\n",
              "      <td>0.610488</td>\n",
              "      <td>...</td>\n",
              "      <td>5.000000</td>\n",
              "      <td>1.000000</td>\n",
              "      <td>2.000000</td>\n",
              "      <td>0.660000</td>\n",
              "      <td>0.621200</td>\n",
              "      <td>0.780000</td>\n",
              "      <td>0.253700</td>\n",
              "      <td>48.000000</td>\n",
              "      <td>220.000000</td>\n",
              "      <td>281.000000</td>\n",
              "    </tr>\n",
              "    <tr>\n",
              "      <th>max</th>\n",
              "      <td>731.000000</td>\n",
              "      <td>4.000000</td>\n",
              "      <td>1.000000</td>\n",
              "      <td>12.000000</td>\n",
              "      <td>1.000000</td>\n",
              "      <td>6.000000</td>\n",
              "      <td>1.000000</td>\n",
              "      <td>3.000000</td>\n",
              "      <td>0.861667</td>\n",
              "      <td>0.840896</td>\n",
              "      <td>...</td>\n",
              "      <td>6.000000</td>\n",
              "      <td>1.000000</td>\n",
              "      <td>4.000000</td>\n",
              "      <td>1.000000</td>\n",
              "      <td>1.000000</td>\n",
              "      <td>1.000000</td>\n",
              "      <td>0.850700</td>\n",
              "      <td>367.000000</td>\n",
              "      <td>886.000000</td>\n",
              "      <td>977.000000</td>\n",
              "    </tr>\n",
              "  </tbody>\n",
              "</table>\n",
              "<p>8 rows × 30 columns</p>\n",
              "</div>"
            ],
            "text/plain": [
              "        instant_day    season_day        yr_day      mnth_day   holiday_day  \\\n",
              "count  17379.000000  17379.000000  17379.000000  17379.000000  17379.000000   \n",
              "mean     367.172622      2.501640      0.502561      6.537775      0.028770   \n",
              "std      210.072051      1.106918      0.500008      3.438776      0.167165   \n",
              "min        1.000000      1.000000      0.000000      1.000000      0.000000   \n",
              "25%      185.000000      2.000000      0.000000      4.000000      0.000000   \n",
              "50%      367.000000      3.000000      1.000000      7.000000      0.000000   \n",
              "75%      549.000000      3.000000      1.000000     10.000000      0.000000   \n",
              "max      731.000000      4.000000      1.000000     12.000000      1.000000   \n",
              "\n",
              "        weekday_day  workingday_day  weathersit_day      temp_day  \\\n",
              "count  17379.000000    17379.000000    17379.000000  17379.000000   \n",
              "mean       3.003683        0.682721        1.391680      0.496987   \n",
              "std        2.005771        0.465431        0.540501      0.182445   \n",
              "min        0.000000        0.000000        1.000000      0.059130   \n",
              "25%        1.000000        0.000000        1.000000      0.340000   \n",
              "50%        3.000000        1.000000        1.000000      0.502500   \n",
              "75%        5.000000        1.000000        2.000000      0.655833   \n",
              "max        6.000000        1.000000        3.000000      0.861667   \n",
              "\n",
              "          atemp_day  ...  weekday_hour  workingday_hour  weathersit_hour  \\\n",
              "count  17379.000000  ...  17379.000000     17379.000000     17379.000000   \n",
              "mean       0.475775  ...      3.003683         0.682721         1.425283   \n",
              "std        0.162426  ...      2.005771         0.465431         0.639357   \n",
              "min        0.079070  ...      0.000000         0.000000         1.000000   \n",
              "25%        0.338363  ...      1.000000         0.000000         1.000000   \n",
              "50%        0.490122  ...      3.000000         1.000000         1.000000   \n",
              "75%        0.610488  ...      5.000000         1.000000         2.000000   \n",
              "max        0.840896  ...      6.000000         1.000000         4.000000   \n",
              "\n",
              "          temp_hour    atemp_hour      hum_hour  windspeed_hour   casual_hour  \\\n",
              "count  17379.000000  17379.000000  17379.000000    17379.000000  17379.000000   \n",
              "mean       0.496987      0.475775      0.627229        0.190098     35.676218   \n",
              "std        0.192556      0.171850      0.192930        0.122340     49.305030   \n",
              "min        0.020000      0.000000      0.000000        0.000000      0.000000   \n",
              "25%        0.340000      0.333300      0.480000        0.104500      4.000000   \n",
              "50%        0.500000      0.484800      0.630000        0.194000     17.000000   \n",
              "75%        0.660000      0.621200      0.780000        0.253700     48.000000   \n",
              "max        1.000000      1.000000      1.000000        0.850700    367.000000   \n",
              "\n",
              "       registered_hour      cnt_hour  \n",
              "count     17379.000000  17379.000000  \n",
              "mean        153.786869    189.463088  \n",
              "std         151.357286    181.387599  \n",
              "min           0.000000      1.000000  \n",
              "25%          34.000000     40.000000  \n",
              "50%         115.000000    142.000000  \n",
              "75%         220.000000    281.000000  \n",
              "max         886.000000    977.000000  \n",
              "\n",
              "[8 rows x 30 columns]"
            ]
          },
          "execution_count": 8,
          "metadata": {},
          "output_type": "execute_result"
        }
      ],
      "source": [
        "df_combined.describe()"
      ]
    },
    {
      "cell_type": "code",
      "execution_count": 9,
      "metadata": {
        "id": "mowYyAVmUMVy"
      },
      "outputs": [
        {
          "name": "stdout",
          "output_type": "stream",
          "text": [
            "   instant_day      dteday  season_day  yr_day  mnth_day  holiday_day  \\\n",
            "0            1  2011-01-01           1       0         1            0   \n",
            "1            1  2011-01-01           1       0         1            0   \n",
            "2            1  2011-01-01           1       0         1            0   \n",
            "3            1  2011-01-01           1       0         1            0   \n",
            "4            1  2011-01-01           1       0         1            0   \n",
            "\n",
            "   weekday_day  workingday_day  weathersit_day  temp_day  ...  weekday_hour  \\\n",
            "0            6               0               2  0.344167  ...             6   \n",
            "1            6               0               2  0.344167  ...             6   \n",
            "2            6               0               2  0.344167  ...             6   \n",
            "3            6               0               2  0.344167  ...             6   \n",
            "4            6               0               2  0.344167  ...             6   \n",
            "\n",
            "   workingday_hour  weathersit_hour  temp_hour  atemp_hour  hum_hour  \\\n",
            "0                0                1       0.24      0.2879      0.81   \n",
            "1                0                1       0.22      0.2727      0.80   \n",
            "2                0                1       0.22      0.2727      0.80   \n",
            "3                0                1       0.24      0.2879      0.75   \n",
            "4                0                1       0.24      0.2879      0.75   \n",
            "\n",
            "   windspeed_hour  casual_hour  registered_hour  cnt_hour  \n",
            "0             0.0            3               13        16  \n",
            "1             0.0            8               32        40  \n",
            "2             0.0            5               27        32  \n",
            "3             0.0            3               10        13  \n",
            "4             0.0            0                1         1  \n",
            "\n",
            "[5 rows x 31 columns]\n"
          ]
        }
      ],
      "source": [
        "# Menyimpan hasil penggabungan menjadi file CSV baru\n",
        "df_combined.to_csv('combined_data.csv', index=False)\n",
        "\n",
        "# Menampilkan beberapa baris pertama dari data yang telah digabungkan dan dibersihkan\n",
        "print(df_combined.head())"
      ]
    },
    {
      "cell_type": "code",
      "execution_count": 10,
      "metadata": {
        "colab": {
          "base_uri": "https://localhost:8080/"
        },
        "id": "lqiLh5RzT_K7",
        "outputId": "5c6cf45c-da65-45cb-f5d5-db598fe2f9eb"
      },
      "outputs": [
        {
          "name": "stdout",
          "output_type": "stream",
          "text": [
            "<class 'pandas.core.frame.DataFrame'>\n",
            "RangeIndex: 17379 entries, 0 to 17378\n",
            "Data columns (total 31 columns):\n",
            " #   Column           Non-Null Count  Dtype  \n",
            "---  ------           --------------  -----  \n",
            " 0   instant_day      17379 non-null  int64  \n",
            " 1   dteday           17379 non-null  object \n",
            " 2   season_day       17379 non-null  int64  \n",
            " 3   yr_day           17379 non-null  int64  \n",
            " 4   mnth_day         17379 non-null  int64  \n",
            " 5   holiday_day      17379 non-null  int64  \n",
            " 6   weekday_day      17379 non-null  int64  \n",
            " 7   workingday_day   17379 non-null  int64  \n",
            " 8   weathersit_day   17379 non-null  int64  \n",
            " 9   temp_day         17379 non-null  float64\n",
            " 10  atemp_day        17379 non-null  float64\n",
            " 11  hum_day          17379 non-null  float64\n",
            " 12  windspeed_day    17379 non-null  float64\n",
            " 13  casual_day       17379 non-null  int64  \n",
            " 14  registered_day   17379 non-null  int64  \n",
            " 15  cnt_day          17379 non-null  int64  \n",
            " 16  season_hour      17379 non-null  int64  \n",
            " 17  yr_hour          17379 non-null  int64  \n",
            " 18  mnth_hour        17379 non-null  int64  \n",
            " 19  hr               17379 non-null  int64  \n",
            " 20  holiday_hour     17379 non-null  int64  \n",
            " 21  weekday_hour     17379 non-null  int64  \n",
            " 22  workingday_hour  17379 non-null  int64  \n",
            " 23  weathersit_hour  17379 non-null  int64  \n",
            " 24  temp_hour        17379 non-null  float64\n",
            " 25  atemp_hour       17379 non-null  float64\n",
            " 26  hum_hour         17379 non-null  float64\n",
            " 27  windspeed_hour   17379 non-null  float64\n",
            " 28  casual_hour      17379 non-null  int64  \n",
            " 29  registered_hour  17379 non-null  int64  \n",
            " 30  cnt_hour         17379 non-null  int64  \n",
            "dtypes: float64(8), int64(22), object(1)\n",
            "memory usage: 4.1+ MB\n"
          ]
        }
      ],
      "source": [
        "df_combined.info()"
      ]
    },
    {
      "cell_type": "markdown",
      "metadata": {
        "id": "Uz5dgcJm9HW5"
      },
      "source": [
        "### Cleaning Data"
      ]
    },
    {
      "cell_type": "code",
      "execution_count": 11,
      "metadata": {
        "colab": {
          "base_uri": "https://localhost:8080/"
        },
        "id": "RucCm8Okskqy",
        "outputId": "8e2335d4-1016-4005-a7e5-f2ab579dab61"
      },
      "outputs": [
        {
          "name": "stdout",
          "output_type": "stream",
          "text": [
            "Index(['instant_day', 'dteday', 'season_day', 'yr_day', 'mnth_day',\n",
            "       'holiday_day', 'weekday_day', 'workingday_day', 'weathersit_day',\n",
            "       'temp_day', 'atemp_day', 'hum_day', 'windspeed_day', 'casual_day',\n",
            "       'registered_day', 'cnt_day', 'season_hour', 'yr_hour', 'mnth_hour',\n",
            "       'hr', 'holiday_hour', 'weekday_hour', 'workingday_hour',\n",
            "       'weathersit_hour', 'temp_hour', 'atemp_hour', 'hum_hour',\n",
            "       'windspeed_hour', 'casual_hour', 'registered_hour', 'cnt_hour'],\n",
            "      dtype='object')\n"
          ]
        }
      ],
      "source": [
        "print(df_combined.columns)\n"
      ]
    },
    {
      "cell_type": "code",
      "execution_count": 12,
      "metadata": {
        "id": "CCszTdXD9Ivf"
      },
      "outputs": [],
      "source": [
        "# Menggabungkan data berdasarkan 'dteday'\n",
        "df_combined = pd.merge(df_day, df_hour, on='dteday', suffixes=('_day', '_hour'))\n",
        "\n",
        "# Menghapus kolom yang duplikat ('instant_hour')\n",
        "df_combined = df_combined.drop(columns=['instant_hour'])\n",
        "\n",
        "# Mengatasi data yang hilang (jika ada)\n",
        "df_combined['temp_day'].fillna(df_combined['temp_day'].mean(), inplace=True)\n",
        "df_combined['temp_hour'].fillna(df_combined['temp_hour'].mean(), inplace=True)\n",
        "\n",
        "# Menghapus kolom yang tidak diperlukan (jika ada)\n",
        "df_combined = df_combined.drop(columns=['casual_day', 'casual_hour', 'registered_day', 'registered_hour'])\n",
        "\n",
        "# Menyimpan data yang sudah dibersihkan ke file CSV baru\n",
        "df_combined.to_csv('cleaned_data.csv', index=False)"
      ]
    },
    {
      "cell_type": "code",
      "execution_count": 13,
      "metadata": {
        "colab": {
          "base_uri": "https://localhost:8080/"
        },
        "id": "Ycz_kbXVScKL",
        "outputId": "dcec64a5-2ff6-427d-843c-50e57cfff8c6"
      },
      "outputs": [
        {
          "name": "stdout",
          "output_type": "stream",
          "text": [
            "Index(['instant_day', 'dteday', 'season_day', 'yr_day', 'mnth_day',\n",
            "       'holiday_day', 'weekday_day', 'workingday_day', 'weathersit_day',\n",
            "       'temp_day', 'atemp_day', 'hum_day', 'windspeed_day', 'cnt_day',\n",
            "       'season_hour', 'yr_hour', 'mnth_hour', 'hr', 'holiday_hour',\n",
            "       'weekday_hour', 'workingday_hour', 'weathersit_hour', 'temp_hour',\n",
            "       'atemp_hour', 'hum_hour', 'windspeed_hour', 'cnt_hour'],\n",
            "      dtype='object')\n"
          ]
        }
      ],
      "source": [
        "print(df_combined.columns)"
      ]
    },
    {
      "cell_type": "markdown",
      "metadata": {
        "id": "EyPJaCDm9KFb"
      },
      "source": [
        "## Exploratory Data Analysis (EDA)"
      ]
    },
    {
      "cell_type": "markdown",
      "metadata": {
        "id": "hxgJ6qd69Mce"
      },
      "source": [
        "### Explore ..."
      ]
    },
    {
      "cell_type": "code",
      "execution_count": 14,
      "metadata": {
        "colab": {
          "base_uri": "https://localhost:8080/",
          "height": 342
        },
        "id": "T4ggv3rJU13u",
        "outputId": "a2fa17f3-1a25-4bec-81e3-cc64e2ac2c7c"
      },
      "outputs": [
        {
          "data": {
            "text/html": [
              "<div>\n",
              "<style scoped>\n",
              "    .dataframe tbody tr th:only-of-type {\n",
              "        vertical-align: middle;\n",
              "    }\n",
              "\n",
              "    .dataframe tbody tr th {\n",
              "        vertical-align: top;\n",
              "    }\n",
              "\n",
              "    .dataframe thead th {\n",
              "        text-align: right;\n",
              "    }\n",
              "</style>\n",
              "<table border=\"1\" class=\"dataframe\">\n",
              "  <thead>\n",
              "    <tr style=\"text-align: right;\">\n",
              "      <th></th>\n",
              "      <th>instant_day</th>\n",
              "      <th>dteday</th>\n",
              "      <th>season_day</th>\n",
              "      <th>yr_day</th>\n",
              "      <th>mnth_day</th>\n",
              "      <th>holiday_day</th>\n",
              "      <th>weekday_day</th>\n",
              "      <th>workingday_day</th>\n",
              "      <th>weathersit_day</th>\n",
              "      <th>temp_day</th>\n",
              "      <th>...</th>\n",
              "      <th>hr</th>\n",
              "      <th>holiday_hour</th>\n",
              "      <th>weekday_hour</th>\n",
              "      <th>workingday_hour</th>\n",
              "      <th>weathersit_hour</th>\n",
              "      <th>temp_hour</th>\n",
              "      <th>atemp_hour</th>\n",
              "      <th>hum_hour</th>\n",
              "      <th>windspeed_hour</th>\n",
              "      <th>cnt_hour</th>\n",
              "    </tr>\n",
              "  </thead>\n",
              "  <tbody>\n",
              "    <tr>\n",
              "      <th>7529</th>\n",
              "      <td>319</td>\n",
              "      <td>2011-11-15</td>\n",
              "      <td>4</td>\n",
              "      <td>0</td>\n",
              "      <td>11</td>\n",
              "      <td>0</td>\n",
              "      <td>2</td>\n",
              "      <td>1</td>\n",
              "      <td>2</td>\n",
              "      <td>0.530000</td>\n",
              "      <td>...</td>\n",
              "      <td>8</td>\n",
              "      <td>0</td>\n",
              "      <td>2</td>\n",
              "      <td>1</td>\n",
              "      <td>2</td>\n",
              "      <td>0.54</td>\n",
              "      <td>0.5152</td>\n",
              "      <td>0.68</td>\n",
              "      <td>0.1045</td>\n",
              "      <td>480</td>\n",
              "    </tr>\n",
              "    <tr>\n",
              "      <th>6478</th>\n",
              "      <td>275</td>\n",
              "      <td>2011-10-02</td>\n",
              "      <td>4</td>\n",
              "      <td>0</td>\n",
              "      <td>10</td>\n",
              "      <td>0</td>\n",
              "      <td>0</td>\n",
              "      <td>0</td>\n",
              "      <td>2</td>\n",
              "      <td>0.356667</td>\n",
              "      <td>...</td>\n",
              "      <td>12</td>\n",
              "      <td>0</td>\n",
              "      <td>0</td>\n",
              "      <td>0</td>\n",
              "      <td>2</td>\n",
              "      <td>0.40</td>\n",
              "      <td>0.4091</td>\n",
              "      <td>0.62</td>\n",
              "      <td>0.1940</td>\n",
              "      <td>321</td>\n",
              "    </tr>\n",
              "    <tr>\n",
              "      <th>6294</th>\n",
              "      <td>267</td>\n",
              "      <td>2011-09-24</td>\n",
              "      <td>4</td>\n",
              "      <td>0</td>\n",
              "      <td>9</td>\n",
              "      <td>0</td>\n",
              "      <td>6</td>\n",
              "      <td>0</td>\n",
              "      <td>2</td>\n",
              "      <td>0.606667</td>\n",
              "      <td>...</td>\n",
              "      <td>20</td>\n",
              "      <td>0</td>\n",
              "      <td>6</td>\n",
              "      <td>0</td>\n",
              "      <td>1</td>\n",
              "      <td>0.62</td>\n",
              "      <td>0.5758</td>\n",
              "      <td>0.83</td>\n",
              "      <td>0.0000</td>\n",
              "      <td>243</td>\n",
              "    </tr>\n",
              "    <tr>\n",
              "      <th>7769</th>\n",
              "      <td>329</td>\n",
              "      <td>2011-11-25</td>\n",
              "      <td>4</td>\n",
              "      <td>0</td>\n",
              "      <td>11</td>\n",
              "      <td>0</td>\n",
              "      <td>5</td>\n",
              "      <td>1</td>\n",
              "      <td>1</td>\n",
              "      <td>0.375000</td>\n",
              "      <td>...</td>\n",
              "      <td>8</td>\n",
              "      <td>0</td>\n",
              "      <td>5</td>\n",
              "      <td>1</td>\n",
              "      <td>1</td>\n",
              "      <td>0.26</td>\n",
              "      <td>0.2727</td>\n",
              "      <td>0.81</td>\n",
              "      <td>0.1343</td>\n",
              "      <td>74</td>\n",
              "    </tr>\n",
              "    <tr>\n",
              "      <th>4520</th>\n",
              "      <td>193</td>\n",
              "      <td>2011-07-12</td>\n",
              "      <td>3</td>\n",
              "      <td>0</td>\n",
              "      <td>7</td>\n",
              "      <td>0</td>\n",
              "      <td>2</td>\n",
              "      <td>1</td>\n",
              "      <td>1</td>\n",
              "      <td>0.794167</td>\n",
              "      <td>...</td>\n",
              "      <td>6</td>\n",
              "      <td>0</td>\n",
              "      <td>2</td>\n",
              "      <td>1</td>\n",
              "      <td>1</td>\n",
              "      <td>0.74</td>\n",
              "      <td>0.6818</td>\n",
              "      <td>0.58</td>\n",
              "      <td>0.2239</td>\n",
              "      <td>115</td>\n",
              "    </tr>\n",
              "  </tbody>\n",
              "</table>\n",
              "<p>5 rows × 27 columns</p>\n",
              "</div>"
            ],
            "text/plain": [
              "      instant_day      dteday  season_day  yr_day  mnth_day  holiday_day  \\\n",
              "7529          319  2011-11-15           4       0        11            0   \n",
              "6478          275  2011-10-02           4       0        10            0   \n",
              "6294          267  2011-09-24           4       0         9            0   \n",
              "7769          329  2011-11-25           4       0        11            0   \n",
              "4520          193  2011-07-12           3       0         7            0   \n",
              "\n",
              "      weekday_day  workingday_day  weathersit_day  temp_day  ...  hr  \\\n",
              "7529            2               1               2  0.530000  ...   8   \n",
              "6478            0               0               2  0.356667  ...  12   \n",
              "6294            6               0               2  0.606667  ...  20   \n",
              "7769            5               1               1  0.375000  ...   8   \n",
              "4520            2               1               1  0.794167  ...   6   \n",
              "\n",
              "      holiday_hour  weekday_hour  workingday_hour  weathersit_hour  temp_hour  \\\n",
              "7529             0             2                1                2       0.54   \n",
              "6478             0             0                0                2       0.40   \n",
              "6294             0             6                0                1       0.62   \n",
              "7769             0             5                1                1       0.26   \n",
              "4520             0             2                1                1       0.74   \n",
              "\n",
              "      atemp_hour  hum_hour  windspeed_hour  cnt_hour  \n",
              "7529      0.5152      0.68          0.1045       480  \n",
              "6478      0.4091      0.62          0.1940       321  \n",
              "6294      0.5758      0.83          0.0000       243  \n",
              "7769      0.2727      0.81          0.1343        74  \n",
              "4520      0.6818      0.58          0.2239       115  \n",
              "\n",
              "[5 rows x 27 columns]"
            ]
          },
          "execution_count": 14,
          "metadata": {},
          "output_type": "execute_result"
        }
      ],
      "source": [
        "df_combined.sample(5)"
      ]
    },
    {
      "cell_type": "code",
      "execution_count": 15,
      "metadata": {
        "colab": {
          "base_uri": "https://localhost:8080/",
          "height": 461
        },
        "id": "gIAIcnNSU69L",
        "outputId": "14fbd084-e80b-4854-ec52-bbe360abf98a"
      },
      "outputs": [
        {
          "data": {
            "text/html": [
              "<div>\n",
              "<style scoped>\n",
              "    .dataframe tbody tr th:only-of-type {\n",
              "        vertical-align: middle;\n",
              "    }\n",
              "\n",
              "    .dataframe tbody tr th {\n",
              "        vertical-align: top;\n",
              "    }\n",
              "\n",
              "    .dataframe thead th {\n",
              "        text-align: right;\n",
              "    }\n",
              "</style>\n",
              "<table border=\"1\" class=\"dataframe\">\n",
              "  <thead>\n",
              "    <tr style=\"text-align: right;\">\n",
              "      <th></th>\n",
              "      <th>instant_day</th>\n",
              "      <th>dteday</th>\n",
              "      <th>season_day</th>\n",
              "      <th>yr_day</th>\n",
              "      <th>mnth_day</th>\n",
              "      <th>holiday_day</th>\n",
              "      <th>weekday_day</th>\n",
              "      <th>workingday_day</th>\n",
              "      <th>weathersit_day</th>\n",
              "      <th>temp_day</th>\n",
              "      <th>...</th>\n",
              "      <th>hr</th>\n",
              "      <th>holiday_hour</th>\n",
              "      <th>weekday_hour</th>\n",
              "      <th>workingday_hour</th>\n",
              "      <th>weathersit_hour</th>\n",
              "      <th>temp_hour</th>\n",
              "      <th>atemp_hour</th>\n",
              "      <th>hum_hour</th>\n",
              "      <th>windspeed_hour</th>\n",
              "      <th>cnt_hour</th>\n",
              "    </tr>\n",
              "  </thead>\n",
              "  <tbody>\n",
              "    <tr>\n",
              "      <th>count</th>\n",
              "      <td>17379.000000</td>\n",
              "      <td>17379</td>\n",
              "      <td>17379.000000</td>\n",
              "      <td>17379.000000</td>\n",
              "      <td>17379.000000</td>\n",
              "      <td>17379.000000</td>\n",
              "      <td>17379.000000</td>\n",
              "      <td>17379.000000</td>\n",
              "      <td>17379.000000</td>\n",
              "      <td>17379.000000</td>\n",
              "      <td>...</td>\n",
              "      <td>17379.000000</td>\n",
              "      <td>17379.000000</td>\n",
              "      <td>17379.000000</td>\n",
              "      <td>17379.000000</td>\n",
              "      <td>17379.000000</td>\n",
              "      <td>17379.000000</td>\n",
              "      <td>17379.000000</td>\n",
              "      <td>17379.000000</td>\n",
              "      <td>17379.000000</td>\n",
              "      <td>17379.000000</td>\n",
              "    </tr>\n",
              "    <tr>\n",
              "      <th>unique</th>\n",
              "      <td>NaN</td>\n",
              "      <td>731</td>\n",
              "      <td>NaN</td>\n",
              "      <td>NaN</td>\n",
              "      <td>NaN</td>\n",
              "      <td>NaN</td>\n",
              "      <td>NaN</td>\n",
              "      <td>NaN</td>\n",
              "      <td>NaN</td>\n",
              "      <td>NaN</td>\n",
              "      <td>...</td>\n",
              "      <td>NaN</td>\n",
              "      <td>NaN</td>\n",
              "      <td>NaN</td>\n",
              "      <td>NaN</td>\n",
              "      <td>NaN</td>\n",
              "      <td>NaN</td>\n",
              "      <td>NaN</td>\n",
              "      <td>NaN</td>\n",
              "      <td>NaN</td>\n",
              "      <td>NaN</td>\n",
              "    </tr>\n",
              "    <tr>\n",
              "      <th>top</th>\n",
              "      <td>NaN</td>\n",
              "      <td>2011-01-01</td>\n",
              "      <td>NaN</td>\n",
              "      <td>NaN</td>\n",
              "      <td>NaN</td>\n",
              "      <td>NaN</td>\n",
              "      <td>NaN</td>\n",
              "      <td>NaN</td>\n",
              "      <td>NaN</td>\n",
              "      <td>NaN</td>\n",
              "      <td>...</td>\n",
              "      <td>NaN</td>\n",
              "      <td>NaN</td>\n",
              "      <td>NaN</td>\n",
              "      <td>NaN</td>\n",
              "      <td>NaN</td>\n",
              "      <td>NaN</td>\n",
              "      <td>NaN</td>\n",
              "      <td>NaN</td>\n",
              "      <td>NaN</td>\n",
              "      <td>NaN</td>\n",
              "    </tr>\n",
              "    <tr>\n",
              "      <th>freq</th>\n",
              "      <td>NaN</td>\n",
              "      <td>24</td>\n",
              "      <td>NaN</td>\n",
              "      <td>NaN</td>\n",
              "      <td>NaN</td>\n",
              "      <td>NaN</td>\n",
              "      <td>NaN</td>\n",
              "      <td>NaN</td>\n",
              "      <td>NaN</td>\n",
              "      <td>NaN</td>\n",
              "      <td>...</td>\n",
              "      <td>NaN</td>\n",
              "      <td>NaN</td>\n",
              "      <td>NaN</td>\n",
              "      <td>NaN</td>\n",
              "      <td>NaN</td>\n",
              "      <td>NaN</td>\n",
              "      <td>NaN</td>\n",
              "      <td>NaN</td>\n",
              "      <td>NaN</td>\n",
              "      <td>NaN</td>\n",
              "    </tr>\n",
              "    <tr>\n",
              "      <th>mean</th>\n",
              "      <td>367.172622</td>\n",
              "      <td>NaN</td>\n",
              "      <td>2.501640</td>\n",
              "      <td>0.502561</td>\n",
              "      <td>6.537775</td>\n",
              "      <td>0.028770</td>\n",
              "      <td>3.003683</td>\n",
              "      <td>0.682721</td>\n",
              "      <td>1.391680</td>\n",
              "      <td>0.496987</td>\n",
              "      <td>...</td>\n",
              "      <td>11.546752</td>\n",
              "      <td>0.028770</td>\n",
              "      <td>3.003683</td>\n",
              "      <td>0.682721</td>\n",
              "      <td>1.425283</td>\n",
              "      <td>0.496987</td>\n",
              "      <td>0.475775</td>\n",
              "      <td>0.627229</td>\n",
              "      <td>0.190098</td>\n",
              "      <td>189.463088</td>\n",
              "    </tr>\n",
              "    <tr>\n",
              "      <th>std</th>\n",
              "      <td>210.072051</td>\n",
              "      <td>NaN</td>\n",
              "      <td>1.106918</td>\n",
              "      <td>0.500008</td>\n",
              "      <td>3.438776</td>\n",
              "      <td>0.167165</td>\n",
              "      <td>2.005771</td>\n",
              "      <td>0.465431</td>\n",
              "      <td>0.540501</td>\n",
              "      <td>0.182445</td>\n",
              "      <td>...</td>\n",
              "      <td>6.914405</td>\n",
              "      <td>0.167165</td>\n",
              "      <td>2.005771</td>\n",
              "      <td>0.465431</td>\n",
              "      <td>0.639357</td>\n",
              "      <td>0.192556</td>\n",
              "      <td>0.171850</td>\n",
              "      <td>0.192930</td>\n",
              "      <td>0.122340</td>\n",
              "      <td>181.387599</td>\n",
              "    </tr>\n",
              "    <tr>\n",
              "      <th>min</th>\n",
              "      <td>1.000000</td>\n",
              "      <td>NaN</td>\n",
              "      <td>1.000000</td>\n",
              "      <td>0.000000</td>\n",
              "      <td>1.000000</td>\n",
              "      <td>0.000000</td>\n",
              "      <td>0.000000</td>\n",
              "      <td>0.000000</td>\n",
              "      <td>1.000000</td>\n",
              "      <td>0.059130</td>\n",
              "      <td>...</td>\n",
              "      <td>0.000000</td>\n",
              "      <td>0.000000</td>\n",
              "      <td>0.000000</td>\n",
              "      <td>0.000000</td>\n",
              "      <td>1.000000</td>\n",
              "      <td>0.020000</td>\n",
              "      <td>0.000000</td>\n",
              "      <td>0.000000</td>\n",
              "      <td>0.000000</td>\n",
              "      <td>1.000000</td>\n",
              "    </tr>\n",
              "    <tr>\n",
              "      <th>25%</th>\n",
              "      <td>185.000000</td>\n",
              "      <td>NaN</td>\n",
              "      <td>2.000000</td>\n",
              "      <td>0.000000</td>\n",
              "      <td>4.000000</td>\n",
              "      <td>0.000000</td>\n",
              "      <td>1.000000</td>\n",
              "      <td>0.000000</td>\n",
              "      <td>1.000000</td>\n",
              "      <td>0.340000</td>\n",
              "      <td>...</td>\n",
              "      <td>6.000000</td>\n",
              "      <td>0.000000</td>\n",
              "      <td>1.000000</td>\n",
              "      <td>0.000000</td>\n",
              "      <td>1.000000</td>\n",
              "      <td>0.340000</td>\n",
              "      <td>0.333300</td>\n",
              "      <td>0.480000</td>\n",
              "      <td>0.104500</td>\n",
              "      <td>40.000000</td>\n",
              "    </tr>\n",
              "    <tr>\n",
              "      <th>50%</th>\n",
              "      <td>367.000000</td>\n",
              "      <td>NaN</td>\n",
              "      <td>3.000000</td>\n",
              "      <td>1.000000</td>\n",
              "      <td>7.000000</td>\n",
              "      <td>0.000000</td>\n",
              "      <td>3.000000</td>\n",
              "      <td>1.000000</td>\n",
              "      <td>1.000000</td>\n",
              "      <td>0.502500</td>\n",
              "      <td>...</td>\n",
              "      <td>12.000000</td>\n",
              "      <td>0.000000</td>\n",
              "      <td>3.000000</td>\n",
              "      <td>1.000000</td>\n",
              "      <td>1.000000</td>\n",
              "      <td>0.500000</td>\n",
              "      <td>0.484800</td>\n",
              "      <td>0.630000</td>\n",
              "      <td>0.194000</td>\n",
              "      <td>142.000000</td>\n",
              "    </tr>\n",
              "    <tr>\n",
              "      <th>75%</th>\n",
              "      <td>549.000000</td>\n",
              "      <td>NaN</td>\n",
              "      <td>3.000000</td>\n",
              "      <td>1.000000</td>\n",
              "      <td>10.000000</td>\n",
              "      <td>0.000000</td>\n",
              "      <td>5.000000</td>\n",
              "      <td>1.000000</td>\n",
              "      <td>2.000000</td>\n",
              "      <td>0.655833</td>\n",
              "      <td>...</td>\n",
              "      <td>18.000000</td>\n",
              "      <td>0.000000</td>\n",
              "      <td>5.000000</td>\n",
              "      <td>1.000000</td>\n",
              "      <td>2.000000</td>\n",
              "      <td>0.660000</td>\n",
              "      <td>0.621200</td>\n",
              "      <td>0.780000</td>\n",
              "      <td>0.253700</td>\n",
              "      <td>281.000000</td>\n",
              "    </tr>\n",
              "    <tr>\n",
              "      <th>max</th>\n",
              "      <td>731.000000</td>\n",
              "      <td>NaN</td>\n",
              "      <td>4.000000</td>\n",
              "      <td>1.000000</td>\n",
              "      <td>12.000000</td>\n",
              "      <td>1.000000</td>\n",
              "      <td>6.000000</td>\n",
              "      <td>1.000000</td>\n",
              "      <td>3.000000</td>\n",
              "      <td>0.861667</td>\n",
              "      <td>...</td>\n",
              "      <td>23.000000</td>\n",
              "      <td>1.000000</td>\n",
              "      <td>6.000000</td>\n",
              "      <td>1.000000</td>\n",
              "      <td>4.000000</td>\n",
              "      <td>1.000000</td>\n",
              "      <td>1.000000</td>\n",
              "      <td>1.000000</td>\n",
              "      <td>0.850700</td>\n",
              "      <td>977.000000</td>\n",
              "    </tr>\n",
              "  </tbody>\n",
              "</table>\n",
              "<p>11 rows × 27 columns</p>\n",
              "</div>"
            ],
            "text/plain": [
              "         instant_day      dteday    season_day        yr_day      mnth_day  \\\n",
              "count   17379.000000       17379  17379.000000  17379.000000  17379.000000   \n",
              "unique           NaN         731           NaN           NaN           NaN   \n",
              "top              NaN  2011-01-01           NaN           NaN           NaN   \n",
              "freq             NaN          24           NaN           NaN           NaN   \n",
              "mean      367.172622         NaN      2.501640      0.502561      6.537775   \n",
              "std       210.072051         NaN      1.106918      0.500008      3.438776   \n",
              "min         1.000000         NaN      1.000000      0.000000      1.000000   \n",
              "25%       185.000000         NaN      2.000000      0.000000      4.000000   \n",
              "50%       367.000000         NaN      3.000000      1.000000      7.000000   \n",
              "75%       549.000000         NaN      3.000000      1.000000     10.000000   \n",
              "max       731.000000         NaN      4.000000      1.000000     12.000000   \n",
              "\n",
              "         holiday_day   weekday_day  workingday_day  weathersit_day  \\\n",
              "count   17379.000000  17379.000000    17379.000000    17379.000000   \n",
              "unique           NaN           NaN             NaN             NaN   \n",
              "top              NaN           NaN             NaN             NaN   \n",
              "freq             NaN           NaN             NaN             NaN   \n",
              "mean        0.028770      3.003683        0.682721        1.391680   \n",
              "std         0.167165      2.005771        0.465431        0.540501   \n",
              "min         0.000000      0.000000        0.000000        1.000000   \n",
              "25%         0.000000      1.000000        0.000000        1.000000   \n",
              "50%         0.000000      3.000000        1.000000        1.000000   \n",
              "75%         0.000000      5.000000        1.000000        2.000000   \n",
              "max         1.000000      6.000000        1.000000        3.000000   \n",
              "\n",
              "            temp_day  ...            hr  holiday_hour  weekday_hour  \\\n",
              "count   17379.000000  ...  17379.000000  17379.000000  17379.000000   \n",
              "unique           NaN  ...           NaN           NaN           NaN   \n",
              "top              NaN  ...           NaN           NaN           NaN   \n",
              "freq             NaN  ...           NaN           NaN           NaN   \n",
              "mean        0.496987  ...     11.546752      0.028770      3.003683   \n",
              "std         0.182445  ...      6.914405      0.167165      2.005771   \n",
              "min         0.059130  ...      0.000000      0.000000      0.000000   \n",
              "25%         0.340000  ...      6.000000      0.000000      1.000000   \n",
              "50%         0.502500  ...     12.000000      0.000000      3.000000   \n",
              "75%         0.655833  ...     18.000000      0.000000      5.000000   \n",
              "max         0.861667  ...     23.000000      1.000000      6.000000   \n",
              "\n",
              "        workingday_hour  weathersit_hour     temp_hour    atemp_hour  \\\n",
              "count      17379.000000     17379.000000  17379.000000  17379.000000   \n",
              "unique              NaN              NaN           NaN           NaN   \n",
              "top                 NaN              NaN           NaN           NaN   \n",
              "freq                NaN              NaN           NaN           NaN   \n",
              "mean           0.682721         1.425283      0.496987      0.475775   \n",
              "std            0.465431         0.639357      0.192556      0.171850   \n",
              "min            0.000000         1.000000      0.020000      0.000000   \n",
              "25%            0.000000         1.000000      0.340000      0.333300   \n",
              "50%            1.000000         1.000000      0.500000      0.484800   \n",
              "75%            1.000000         2.000000      0.660000      0.621200   \n",
              "max            1.000000         4.000000      1.000000      1.000000   \n",
              "\n",
              "            hum_hour  windspeed_hour      cnt_hour  \n",
              "count   17379.000000    17379.000000  17379.000000  \n",
              "unique           NaN             NaN           NaN  \n",
              "top              NaN             NaN           NaN  \n",
              "freq             NaN             NaN           NaN  \n",
              "mean        0.627229        0.190098    189.463088  \n",
              "std         0.192930        0.122340    181.387599  \n",
              "min         0.000000        0.000000      1.000000  \n",
              "25%         0.480000        0.104500     40.000000  \n",
              "50%         0.630000        0.194000    142.000000  \n",
              "75%         0.780000        0.253700    281.000000  \n",
              "max         1.000000        0.850700    977.000000  \n",
              "\n",
              "[11 rows x 27 columns]"
            ]
          },
          "execution_count": 15,
          "metadata": {},
          "output_type": "execute_result"
        }
      ],
      "source": [
        "df_combined.describe(include=\"all\")\n"
      ]
    },
    {
      "cell_type": "code",
      "execution_count": null,
      "metadata": {
        "id": "5-iuTP6EU9wY"
      },
      "outputs": [],
      "source": []
    },
    {
      "cell_type": "code",
      "execution_count": 16,
      "metadata": {
        "colab": {
          "base_uri": "https://localhost:8080/"
        },
        "id": "Xo68yguo9LTl",
        "outputId": "ad4ed894-f1fb-463c-a034-c468840ed0cb"
      },
      "outputs": [
        {
          "name": "stdout",
          "output_type": "stream",
          "text": [
            "Performa Penggunaan Sepeda Berdasarkan Hari dalam Seminggu:\n",
            "weekday_day\n",
            "0    4239.505995\n",
            "1    4391.920936\n",
            "2    4566.708113\n",
            "3    4574.609293\n",
            "4    4703.503440\n",
            "5    4700.838359\n",
            "6    4561.544188\n",
            "Name: cnt_day, dtype: float64\n",
            "\n",
            "Performa Penggunaan Sepeda Berdasarkan Jam dalam Sehari:\n",
            "hr\n",
            "0      53.898072\n",
            "1      33.375691\n",
            "2      22.869930\n",
            "3      11.727403\n",
            "4       6.352941\n",
            "5      19.889819\n",
            "6      76.044138\n",
            "7     212.064649\n",
            "8     359.011004\n",
            "9     219.309491\n",
            "10    173.668501\n",
            "11    208.143054\n",
            "12    253.315934\n",
            "13    253.661180\n",
            "14    240.949246\n",
            "15    251.233196\n",
            "16    311.983562\n",
            "17    461.452055\n",
            "18    425.510989\n",
            "19    311.523352\n",
            "20    226.030220\n",
            "21    172.314560\n",
            "22    131.335165\n",
            "23     87.831044\n",
            "Name: cnt_hour, dtype: float64\n"
          ]
        }
      ],
      "source": [
        "# Analisis peminjaman berdasarkan hari dalam seminggu pada DataFrame 'df_combined'\n",
        "peminjaman_per_hari = df_combined.groupby('weekday_day')['cnt_day'].mean()\n",
        "\n",
        "# Analisis peminjaman berdasarkan jam dalsam sehari pada DataFrame 'df_combined'\n",
        "peminjaman_per_jam = df_combined.groupby('hr')['cnt_hour'].mean()\n",
        "\n",
        "# Tampilkan hasil analisis\n",
        "print(\"Performa Penggunaan Sepeda Berdasarkan Hari dalam Seminggu:\")\n",
        "print(peminjaman_per_hari)\n",
        "\n",
        "print(\"\\nPerforma Penggunaan Sepeda Berdasarkan Jam dalam Sehari:\")\n",
        "print(peminjaman_per_jam)\n"
      ]
    },
    {
      "cell_type": "code",
      "execution_count": 17,
      "metadata": {
        "colab": {
          "base_uri": "https://localhost:8080/"
        },
        "id": "4tGCKkR3Rrfh",
        "outputId": "50643a8a-f210-4170-d893-7e0700bcf443"
      },
      "outputs": [
        {
          "name": "stdout",
          "output_type": "stream",
          "text": [
            "Korelasi antara temperatur dan peminjaman sepeda (hari): 0.6252323619601814\n",
            "Korelasi antara kelembaban dan peminjaman sepeda (hari): -0.09165714029096629\n"
          ]
        }
      ],
      "source": [
        "# Menghitung korelasi antara temperatur dan peminjaman sepeda (hari)\n",
        "correlation_temp_day = df_combined['temp_day'].corr(df_combined['cnt_day'])\n",
        "\n",
        "# Menghitung korelasi antara kelembaban dan peminjaman sepeda (hari)\n",
        "correlation_humidity_day = df_combined['hum_day'].corr(df_combined['cnt_day'])\n",
        "\n",
        "# Tampilkan hasil korelasi\n",
        "print(f\"Korelasi antara temperatur dan peminjaman sepeda (hari): {correlation_temp_day}\")\n",
        "print(f\"Korelasi antara kelembaban dan peminjaman sepeda (hari): {correlation_humidity_day}\")\n"
      ]
    },
    {
      "cell_type": "markdown",
      "metadata": {
        "id": "SCNmtOLp9OKB"
      },
      "source": [
        "## Visualization & Explanatory Analysis\n",
        "\n",
        "\n"
      ]
    },
    {
      "cell_type": "markdown",
      "metadata": {
        "id": "SG59_Fbj9Qr6"
      },
      "source": [
        "### Pertanyaan 1: Bagaimana performa penggunaan sepeda berdasarkan waktu (hari dalam seminggu, jam dalam sehari) dan apakah terdapat pola tertentu yang dapat memberikan wawasan untuk meningkatkan strategi pelayanan dan operasional?"
      ]
    },
    {
      "cell_type": "code",
      "execution_count": 18,
      "metadata": {
        "colab": {
          "base_uri": "https://localhost:8080/",
          "height": 957
        },
        "id": "dtRoaxqd9PdU",
        "outputId": "a2b81359-31ec-4e74-89c0-b97cb6277576"
      },
      "outputs": [
        {
          "data": {
            "image/png": "[encoded data removed]",
            "text/plain": [
              "<Figure size 1000x500 with 1 Axes>"
            ]
          },
          "metadata": {},
          "output_type": "display_data"
        },
        {
          "data": {
            "image/png": "[encoded data removed]",
            "text/plain": [
              "<Figure size 1000x500 with 1 Axes>"
            ]
          },
          "metadata": {},
          "output_type": "display_data"
        }
      ],
      "source": [
        "import matplotlib.pyplot as plt\n",
        "\n",
        "# Analisis peminjaman berdasarkan hari dalam seminggu pada DataFrame 'df_combined'\n",
        "peminjaman_per_hari = df_combined.groupby('weekday_day')['cnt_day'].mean()\n",
        "\n",
        "# Analisis peminjaman berdasarkan jam dalam sehari pada DataFrame 'df_combined'\n",
        "peminjaman_per_jam = df_combined.groupby('hr')['cnt_hour'].mean()\n",
        "\n",
        "# Visualisasi performa penggunaan sepeda berdasarkan hari dalam seminggu\n",
        "plt.figure(figsize=(10, 5))\n",
        "plt.bar(peminjaman_per_hari.index, peminjaman_per_hari.values, color='skyblue')\n",
        "plt.xlabel('Hari dalam Seminggu')\n",
        "plt.ylabel('Jumlah Peminjaman Rata-rata')\n",
        "plt.title('Performa Penggunaan Sepeda Berdasarkan Hari dalam Seminggu')\n",
        "plt.xticks(range(7), ['Senin', 'Selasa', 'Rabu', 'Kamis', 'Jumat', 'Sabtu', 'Minggu'])\n",
        "plt.show()\n",
        "\n",
        "# Visualisasi performa penggunaan sepeda berdasarkan jam dalam sehari\n",
        "plt.figure(figsize=(10, 5))\n",
        "plt.plot(peminjaman_per_jam.index, peminjaman_per_jam.values, marker='o', color='green')\n",
        "plt.xlabel('Jam dalam Sehari')\n",
        "plt.ylabel('Jumlah Peminjaman Rata-rata')\n",
        "plt.title('Performa Penggunaan Sepeda Berdasarkan Jam dalam Sehari')\n",
        "plt.xticks(range(24))\n",
        "plt.grid(True)\n",
        "plt.show()\n"
      ]
    },
    {
      "cell_type": "markdown",
      "metadata": {
        "id": "F2Bo_ypQ9RfH"
      },
      "source": [
        "### Pertanyaan 2:Bagaimana korelasi antara faktor cuaca (seperti temperatur, kelembaban, dan kondisi cuaca) dengan tingkat peminjaman sepeda?\n"
      ]
    },
    {
      "cell_type": "code",
      "execution_count": 19,
      "metadata": {
        "colab": {
          "base_uri": "https://localhost:8080/",
          "height": 957
        },
        "id": "jkO5kTJq9S1Y",
        "outputId": "554cf26d-555a-4bd0-b450-d703a04a6359"
      },
      "outputs": [
        {
          "data": {
            "image/png": "[encoded data removed]",
            "text/plain": [
              "<Figure size 1000x500 with 1 Axes>"
            ]
          },
          "metadata": {},
          "output_type": "display_data"
        },
        {
          "data": {
            "image/png": "[encoded data removed]",
            "text/plain": [
              "<Figure size 1000x500 with 1 Axes>"
            ]
          },
          "metadata": {},
          "output_type": "display_data"
        }
      ],
      "source": [
        "import matplotlib.pyplot as plt\n",
        "\n",
        "# Menghitung korelasi antara temperatur dan peminjaman sepeda (hari)\n",
        "correlation_temp_day = df_combined['temp_day'].corr(df_combined['cnt_day'])\n",
        "\n",
        "# Menghitung korelasi antara kelembaban dan peminjaman sepeda (hari)\n",
        "correlation_humidity_day = df_combined['hum_day'].corr(df_combined['cnt_day'])\n",
        "\n",
        "# Visualisasi korelasi antara temperatur dan peminjaman sepeda (hari)\n",
        "plt.figure(figsize=(10, 5))\n",
        "plt.scatter(df_combined['temp_day'], df_combined['cnt_day'], color='blue', alpha=0.5)\n",
        "plt.xlabel('Temperatur (°C)')\n",
        "plt.ylabel('Jumlah Peminjaman Sepeda')\n",
        "plt.title(f'Korelasi antara Temperatur dan Peminjaman Sepeda (Corr: {correlation_temp_day:.2f})')\n",
        "plt.grid(True)\n",
        "plt.show()\n",
        "\n",
        "# Visualisasi korelasi antara kelembaban dan peminjaman sepeda (hari)\n",
        "plt.figure(figsize=(10, 5))\n",
        "plt.scatter(df_combined['hum_day'], df_combined['cnt_day'], color='green', alpha=0.5)\n",
        "plt.xlabel('Kelembaban (%)')\n",
        "plt.ylabel('Jumlah Peminjaman Sepeda')\n",
        "plt.title(f'Korelasi antara Kelembaban dan Peminjaman Sepeda (Corr: {correlation_humidity_day:.2f})')\n",
        "plt.grid(True)\n",
        "plt.show()\n"
      ]
    },
    {
      "cell_type": "markdown",
      "metadata": {
        "id": "J2CnXYGT9Tc2"
      },
      "source": [
        "## Conclusion"
      ]
    },
    {
      "cell_type": "markdown",
      "metadata": {
        "id": "f73FBkLw9V8C"
      },
      "source": [
        "- Bagaimana korelasi antara faktor cuaca (seperti temperatur, kelembaban, dan kondisi cuaca) dengan tingkat peminjaman sepeda?\n",
        "- Bagaimana performa penggunaan sepeda berdasarkan waktu (hari dalam seminggu, jam dalam sehari) dan apakah terdapat pola tertentu yang dapat memberikan wawasan untuk meningkatkan strategi pelayanan dan operasional?"
      ]
    },
    {
      "cell_type": "markdown",
      "metadata": {
        "id": "kt8vYgC4WJU0"
      },
      "source": [
        "- (Pertanyaan 1)Temperatur memiliki korelasi positif moderat (0.63) dengan tingkat peminjaman sepeda, sementara kelembaban memiliki korelasi yang mendekati nol (-0.09), menunjukkan bahwa temperatur memiliki pengaruh yang lebih signifikan terhadap tingkat peminjaman sepeda.\n",
        "- (Pertanyaan 2)Performa penggunaan sepeda menunjukkan bahwa rata-rata jumlah peminjaman sepeda lebih tinggi pada hari-hari kerja (Senin hingga Jumat) dengan puncak pada Kamis, sementara dalam sehari, peminjaman sepeda cenderung tinggi pada jam-jam sibuk, khususnya antara pukul 7 pagi hingga 9 pagi, dan antara pukul 4 sore hingga 6 sore."
      ]
    }
  ],
  "metadata": {
    "colab": {
      "provenance": []
    },
    "kernelspec": {
      "display_name": "Python 3",
      "name": "python3"
    },
    "language_info": {
      "codemirror_mode": {
        "name": "ipython",
        "version": 3
      },
      "file_extension": ".py",
      "mimetype": "text/x-python",
      "name": "python",
      "nbconvert_exporter": "python",
      "pygments_lexer": "ipython3",
      "version": "3.11.4"
    }
  },
  "nbformat": 4,
  "nbformat_minor": 0
}
